{
 "cells": [
  {
   "cell_type": "code",
   "execution_count": 1,
   "metadata": {},
   "outputs": [],
   "source": [
    "import numpy as np\n",
    "import matplotlib.pyplot as plt\n",
    "import scipy.interpolate"
   ]
  },
  {
   "cell_type": "markdown",
   "metadata": {},
   "source": [
    "# Интерполяция многочленами"
   ]
  },
  {
   "cell_type": "markdown",
   "metadata": {},
   "source": [
    "Допустим мы знаем значения $f_k=f(x_k)$ некоторой функции $f(x)$ только на некотором множестве аргументов $x_k\\in\\mathbb R$, $k=1..K$.\n",
    "Мы хотим вычислять $f$ в точках $x$ лежащих между узлами интерполяции $x_k$, для чего мы строим интерполирующую функцию $p(x)$, определенную при всех значениях $x$ и совпадающую с $f$ в узлах интерполяции $f(x)=p(x)$, $k=1..K$.\n",
    "Распространенным (но не единственным) выбором для функции $p$ является многочлен степени $K-1$:\n",
    "\n",
    "$$p(x)=\\sum_{n=0}^{K-1} p_n x^n,$$\n",
    "\n",
    "число коэффициентов которого равно число известных значений функции, что позволяет однозначно найти эти коэффициенты.\n",
    "Формально коэффициенты находятся из системы уравнений:\n",
    "\n",
    "$$p(x_k)=f_k=\\sum_{n=0}^{K-1} p_n x_k^n,$$\n",
    "\n",
    "или в матричном виде $MP=F$, где \n",
    "\n",
    "$$\n",
    "F=\\begin{pmatrix}f_1\\\\\\vdots\\\\f_K\\end{pmatrix},\\quad\n",
    "P=\\begin{pmatrix}p_0\\\\\\vdots\\\\p_{K-1}\\end{pmatrix},\\quad\n",
    "M=\\begin{pmatrix}\n",
    "x_1^0 & \\cdots & x_1^{K-1} \\\\\n",
    "\\vdots & \\ddots & \\vdots \\\\\n",
    "x_K^0 & \\cdots & x_K^{K-1} \\\\\n",
    "\\end{pmatrix}.\n",
    "$$\n",
    "Матрица $M$ называется [матрицей Вандермонда](https://ru.wikipedia.org/wiki/%D0%9E%D0%BF%D1%80%D0%B5%D0%B4%D0%B5%D0%BB%D0%B8%D1%82%D0%B5%D0%BB%D1%8C_%D0%92%D0%B0%D0%BD%D0%B4%D0%B5%D1%80%D0%BC%D0%BE%D0%BD%D0%B4%D0%B0).\n",
    "Попробуем построить интерполяционный многочлен таким способом."
   ]
  },
  {
   "cell_type": "code",
   "execution_count": 2,
   "metadata": {},
   "outputs": [
    {
     "name": "stdout",
     "output_type": "stream",
     "text": [
      "Absolute error of values 1.976695897494813e-15\n",
      "Absolute error of coefficients 96.97108019959083\n"
     ]
    }
   ],
   "source": [
    "# Numpy уже имеет класс для полиномов: numpy.poly1d.\n",
    "# Для полноты изложения мы реализуем свой класс.\n",
    "class Poly():\n",
    "    def __init__(self, pn):\n",
    "        \"\"\"\n",
    "        Создает многочлен с коэффициентами pn:\n",
    "            self(x) = sum_n pn[n] * x**n.\n",
    "        Коэффициенты pn перечисляются в порядке возрастания степени одночлена.\n",
    "        \"\"\"\n",
    "        self.pn = pn\n",
    "    def __call__(self, x):\n",
    "        \"\"\"\n",
    "        Вычисляет многочлен на векторе значений x.\n",
    "        \"\"\"\n",
    "        a = 1. # Здесь мы накапливаем степени x**n.\n",
    "        p = 0. # Сюда мы помещаем сумму одночленов.\n",
    "        for pn in self.pn:\n",
    "            p += a*pn # Учитываем очередной одночлен.\n",
    "            a *= x # Повышаем степень одночлена\n",
    "        return p\n",
    "    \n",
    "# Вспомогательная функция для счета матрицы Вандермонда.\n",
    "def vandermonde(xn):\n",
    "    return np.power(xn[:,None], np.arange(len(xn))[None,:])\n",
    "\n",
    "# Напишем функцию, которая будет находить интерполяционных многочлен через решение системы.\n",
    "def interp_naive(xn, fn):\n",
    "    \"\"\"\n",
    "    Возвращает интерполяционный многочлен, принимающий в точках xp значение fp.\n",
    "    \"\"\"\n",
    "    M = vandermonde(xn)\n",
    "    # Мы используем функцию numpy для решения линейных систем. \n",
    "    # Методы решения линейных систем обсуждаются в другой лабораторной работе.\n",
    "    pn = np.linalg.solve(M, fn)\n",
    "    return Poly(pn)\n",
    "\n",
    "# Возьмем логарифмическую решетку на интервале [1E-6,1] и посмотрим, насколько точно мы восстанавливаем многочлен.\n",
    "N = 8 # Число узлов интерполяции.\n",
    "x = np.logspace(-6,0,N) # Точки равномерной решетки\n",
    "# Будет интерполировать многочлен степени N-1, который зададим случайными коэффициентами.\n",
    "f = Poly(np.random.randn(N))\n",
    "y = f(x) # Значения многочлена на решетке.\n",
    "p = interp_naive(x, y) # Строим интерполяционный многочлен.\n",
    "z = p(x) # Значения интерполяционного многочлена на решетке.\n",
    "print(\"Absolute error of values\", np.linalg.norm(z-y))\n",
    "print(\"Absolute error of coefficients\", np.linalg.norm(f.pn-p.pn))"
   ]
  },
  {
   "cell_type": "markdown",
   "metadata": {},
   "source": [
    "Построенный интерполяционный многочлен принимает близкие значения к заданным в узлах значениям.\n",
    "Но хотя значения в узлах должны задавать многочлен однозначно, интерполяционный и интерполируемый многочлен имеют значительно отличающиеся коэффициенты. Значения многочленов между узлами также значительно отличаются."
   ]
  },
  {
   "cell_type": "code",
   "execution_count": 3,
   "metadata": {},
   "outputs": [
    {
     "data": {
      "image/png": "[encoded data removed]",
      "text/plain": [
       "<Figure size 720x504 with 1 Axes>"
      ]
     },
     "metadata": {
      "needs_background": "light"
     },
     "output_type": "display_data"
    }
   ],
   "source": [
    "t = np.linspace(0,1,100)\n",
    "_, ax = plt.subplots(figsize=(10,7))\n",
    "ax.plot(t, f(t), '-k')\n",
    "ax.plot(t, p(t), '-r')\n",
    "ax.plot(x, f(x), '.')\n",
    "ax.set_xlabel(\"Argument\")\n",
    "ax.set_ylabel(\"Function\")\n",
    "ax.legend([\"$f(x)$\", \"$p(x)$\"])\n",
    "plt.show()"
   ]
  },
  {
   "cell_type": "markdown",
   "metadata": {},
   "source": [
    "## Задания\n",
    "\n",
    "1. Измените метод `__call__`, так чтобы он реализовывал [схему Горнера](https://ru.wikipedia.org/wiki/Схема_Горнера). Чем эта схема лучше?\n",
    "2. Почему нахождение коэффициентов интерполяционного многочлена через решение системы дает ошибочный ответ? \n",
    "3. Найдите определитель матрицы Вандермонда теоретически и численно. \n",
    "4. Найдите числа обусловленности матрицы Вандермонда. Сравните экспериментально полученные погрешности решения системы и невязку с теоретическим предсказанием."
   ]
  },
  {
   "cell_type": "markdown",
   "metadata": {},
   "source": [
    "На практике интерполяционный многочлен обычно находится в форме [многочлена Лагранжа](https://ru.wikipedia.org/wiki/Интерполяционный_многочлен_Лагранжа):\n",
    "\n",
    "$$\n",
    "p(x)=\\sum_{k=1}^K f_k L_k(x),\\;\\text{где}\\;\n",
    "L_k(x)=\\prod_{j\\neq k}\\frac{x-x_j}{x_k-x_j}.\n",
    "$$\n",
    "\n",
    "Для ускорения вычисления многочлена Лагранжа используется [схема Эйткена](https://ru.wikipedia.org/wiki/Схема_Эйткена), основанная на рекурсии. Обозначим $p_{i,\\ldots,j}$ многочлен Лагранжа, построенный по узлам интерполяции $(x_i,f_i),\\ldots,(x_j,f_j)$,\n",
    "в частности искомое $p=p_{1,\\ldots,K}$. Справедливо следующее соотношение, выражающие интеполяционный многочлен через такой же с меньшим числом узлов:\n",
    "\n",
    "$$\n",
    "p_{i,\\ldots,j}=\\frac{(x-x_i)p_{i+1,\\ldots,j}-(x-x_j)p_{i,\\ldots,j-1}(x)}{x_j-x_i}.\n",
    "$$\n",
    "\n",
    "База рекурсии задается очевидным равенством $p_{i}(x)=f_i$."
   ]
  },
  {
   "cell_type": "markdown",
   "metadata": {},
   "source": [
    "[Интерполяционные формулы Ньютона](ru.wikipedia.org/wiki/Интерполяционные_формулы_Ньютона) дают другой популярный способ записи интерполяционного многочлена:\n",
    "\n",
    "$$\n",
    "p(x)=\\sum_{k=1}^K[x_1,\\ldots,x_k]f\\prod_{i=1}^k(x-x_j),\n",
    "$$\n",
    "\n",
    "где разделенные разности $[\\ldots]f$ заданы рекурсивно:\n",
    "\n",
    "$$\n",
    "[x_1,\\ldots,x_k,x]f=\\frac{[x_1,\\ldots,x_{k-1},x]f-[x_1,\\ldots,x_{k-1},x_k]f}{x-x_k}.\n",
    "$$\n",
    "\n",
    "Данные формулы можно рассматривать как дискретный вариант формулы Тейлора. \n",
    "На основе формул Ньютона разработан [алгоритм Невилла](https://en.wikipedia.org/wiki/Neville%27s_algorithm) для вычисления интерполяционного многочлена, по существу эквивалентный схеме Эйткена."
   ]
  },
  {
   "cell_type": "markdown",
   "metadata": {},
   "source": [
    "## Задания\n",
    "\n",
    "5. Реализуйте метод Эйткена вычисления интерполяционного многочлена.  \n",
    "6. Если мы попытаемся восстановить многочлен через его значения в точках, аналогично заданию 2, получим ли мы с помощью метода Эйткена ответ точнее, чем через решение системы?\n",
    "7. Scipy содержит готовую реализацию интерполяционного многочлена Лагранжа [`scipy.interpolate.lagrange`](docs.scipy.org/doc/scipy-0.14.0/reference/generated/scipy.interpolate.lagrange.html). В документации отмечается, что метод численно неустойчив. Что это означает?\n",
    "8. Ошибки в исходных данных для построения интерполяционного многочлена вызывают ошибки при вычислении интерполяционного многочлена в промежуточных точках. При каком расположении узлов интерполяция многочленом Лагранжа имеет наименьшую ошибку? Как это связано с численной устойчивостью? "
   ]
  },
  {
   "cell_type": "markdown",
   "metadata": {},
   "source": [
    "Рассмотрим теперь насколько хорошо интерполяционный многочлен  прилижает интерполируемую функцию. "
   ]
  },
  {
   "cell_type": "code",
   "execution_count": 4,
   "metadata": {},
   "outputs": [
    {
     "name": "stdout",
     "output_type": "stream",
     "text": [
      "Error 0.21298615944695953\n"
     ]
    },
    {
     "data": {
      "image/png": "[encoded data removed]",
      "text/plain": [
       "<Figure size 720x360 with 1 Axes>"
      ]
     },
     "metadata": {
      "needs_background": "light"
     },
     "output_type": "display_data"
    }
   ],
   "source": [
    "# В качестве интерполируемой функции возьмем f(x)=x sin(2x.\n",
    "def f(x):\n",
    "    return x*np.sin(2*x)\n",
    "\n",
    "# Будем интерполировать функцию на интервале [x0-r,x0+r], где\n",
    "x0 = 10\n",
    "r = 1\n",
    "\n",
    "# В качестве узлов интерполяции возьмем равномерную решетку из N узлов.\n",
    "N = 5\n",
    "xn = np.linspace(x0-r, x0+r, N)\n",
    "\n",
    "# Построим интерполяционный многочлен.\n",
    "p = interp_naive(xn, f(xn))\n",
    "                 \n",
    "# Оценим точность приближения функции многочленом как максимум \n",
    "# отклонения значений многочлена от значений функции на интервале.\n",
    "# Так как мы не можем рассмотреть все точки, то ограничимся \n",
    "# плотной решеткой.\n",
    "tn = np.linspace(x0-r, x0+r, 10000)\n",
    "error = np.abs(f(tn)-p(tn))\n",
    "print(\"Error\", np.max(error))\n",
    "\n",
    "_, ax = plt.subplots(figsize=(10,5))\n",
    "ax.semilogy(tn, error)\n",
    "ax.set_xlabel(\"Argument\")\n",
    "ax.set_ylabel(\"Absolute error\")\n",
    "plt.show()"
   ]
  },
  {
   "cell_type": "markdown",
   "metadata": {},
   "source": [
    "# Задания\n",
    "\n",
    "9. Найдите погрешность прилижения функции $f$ интерполяционным многолченом $p$ для $x0=10, 100, 1000$ и для $N=5, 10, 15$. Объясните получающиеся результаты.\n",
    "\n",
    "10. Постройте график зависимости ошибки от числа узлов интерполяции $N$ для $x0=100$ и $r=5$ в диапазоне  $5\\leq N \\leq 50$. \n",
    "\n",
    "11. Повторите задания 9 и 10 для узлов интерполяции Чебышева:\n",
    "\n",
    "$$x_n=x0+r\\cos\\left(\\frac{\\pi}{2}\\frac{2n-1}{N}\\right),\\; k=1\\ldots N.$$\n",
    "\n",
    "12. Сравните распределение ошибки внутри интервала $x\\in[x0-r,x0+r]$ для равномерно расположенных узлов и для узлов Чебышева.\n",
    "\n",
    "13. Повторите задания 9 и 10 для функции $f(x)=|x-1|$, $x0=1$, $r=1$. Объясните наблюдающиеся различия."
   ]
  },
  {
   "cell_type": "markdown",
   "metadata": {},
   "source": [
    "Использование интерполяционного полинома очень высокой степени часто приводит к тому, что в некоторых точках погрешность приближения оказывается очень большой.\n",
    "Вместо одного многочлена высокой степени, приближающего функцию на всем интервале, можно использовать несколько многочленов меньше степени, каждый из которых приближает функцию только на подинтервале. \n",
    "Если функция обладает некоторой степенью гладкости, например, несколько ее производных непрерывные функции, то такую же гладкость естественно требовать от результирующего семейства интерполяционных многочленов, что накладывает ограничения на их коэффициенты.\n",
    "Получающаяся кусочно-полиномиальная функция называется [сплайном](https://ru.wikipedia.org/wiki/%D0%A1%D0%BF%D0%BB%D0%B0%D0%B9%D0%BD). [Кубическим сплайном](https://ru.wikipedia.org/wiki/%D0%9A%D1%83%D0%B1%D0%B8%D1%87%D0%B5%D1%81%D0%BA%D0%B8%D0%B9_%D1%81%D0%BF%D0%BB%D0%B0%D0%B9%D0%BD) дефекта 1 называется функция, которая:\n",
    "\n",
    "1. на каждом интервале $[x_{k-1}, x_k]$ является многочленом третьей степени (или меньше);\n",
    "2. имеет непрерывные первую и вторую производные во всех точках;\n",
    "3. совпадает с интерполируемой функцией в узлах $x_k$."
   ]
  },
  {
   "cell_type": "markdown",
   "metadata": {},
   "source": [
    "# Задания\n",
    "\n",
    "14. Для функции из задания 9 постройте кубический сплайн дефекта 1 с узлами из задания 9. Можете воспользоваться функциями `scipy.interpolate.splrep` и `scipy.interpolate.splev` или реализовать свои аналоги.\n",
    "\n",
    "15. Изучите зависимость погрешности приближения функции сплайном от числа узлов интерполяции. Сравните с результатом из задания 10. Когда погрешности совпадут?\n",
    "\n",
    "16. Как можно обобщить изученные методы интерполяции на кривые в многомерном пространстве? \n",
    "\n",
    "17. Как можно интерполировать функции нескольких переменных?\n",
    "\n",
    "18. Какие еще способы интерполяции существуют?\n"
   ]
  },
  {
   "cell_type": "code",
   "execution_count": null,
   "metadata": {},
   "outputs": [],
   "source": []
  }
 ],
 "metadata": {
  "kernelspec": {
   "display_name": "Python 3",
   "language": "python",
   "name": "python3"
  },
  "language_info": {
   "codemirror_mode": {
    "name": "ipython",
    "version": 3
   },
   "file_extension": ".py",
   "mimetype": "text/x-python",
   "name": "python",
   "nbconvert_exporter": "python",
   "pygments_lexer": "ipython3",
   "version": "3.7.5"
  }
 },
 "nbformat": 4,
 "nbformat_minor": 2
}
